{
 "cells": [
  {
   "cell_type": "markdown",
   "metadata": {},
   "source": [
    "This code is to combine multiple individual components learnt regarding MLPs.\n",
    "The individual components are in the folder: indv_algos/"
   ]
  },
  {
   "cell_type": "markdown",
   "metadata": {},
   "source": [
    "In this code, we will train an MLP to classify images from the MNIST handwritten digits database.\n",
    "Here, we will visualize the dataset, define the network, train the model and evaluate the performance. \n"
   ]
  },
  {
   "cell_type": "code",
   "execution_count": 1,
   "metadata": {},
   "outputs": [],
   "source": [
    "# import libraries\n",
    "import torch\n",
    "import numpy as np\n",
    "import matplotlib.pyplot as plt\n",
    "from torchvision import transforms, datasets\n",
    "from torch.utils.data.sampler import SubsetRandomSampler"
   ]
  },
  {
   "cell_type": "code",
   "execution_count": 2,
   "metadata": {},
   "outputs": [
    {
     "name": "stdout",
     "output_type": "stream",
     "text": [
      "True\n"
     ]
    }
   ],
   "source": [
    "# check if cuda exists\n",
    "print(torch.cuda.is_available())"
   ]
  },
  {
   "cell_type": "code",
   "execution_count": 3,
   "metadata": {},
   "outputs": [],
   "source": [
    "# Load data\n",
    "\n",
    "# The MNIST datasets are hosted on yann.lecun.com that has moved under CloudFlare protection\n",
    "# Run this script to enable the datasets download\n",
    "# Reference: https://github.com/pytorch/vision/issues/1938\n",
    "\n",
    "from six.moves import urllib\n",
    "opener = urllib.request.build_opener()\n",
    "opener.addheaders = [('User-agent', 'Mozilla/5.0')]\n",
    "urllib.request.install_opener(opener)"
   ]
  },
  {
   "cell_type": "code",
   "execution_count": 4,
   "metadata": {},
   "outputs": [],
   "source": [
    "transform = transforms.Compose([transforms.ToTensor(),\n",
    "                              transforms.Normalize((0.5,), (0.5,)),\n",
    "                              ])"
   ]
  },
  {
   "cell_type": "code",
   "execution_count": 14,
   "metadata": {},
   "outputs": [],
   "source": [
    "import torch.utils\n",
    "import torch.utils.data\n",
    "\n",
    "\n",
    "train_data = datasets.MNIST(root=\"~/datasets/MNIST_data/\", download=True, train=True, transform=transform)\n",
    "test_data = datasets.MNIST(root=\"~/datasets/MNIST_data/\", download=True, train=False, transform=transform)\n",
    "\n",
    "# number of subprocesses to load the data\n",
    "num_workers =  4\n",
    "\n",
    "# samples per batch\n",
    "batch_size = 64\n",
    "\n",
    "# percentage of training set to be made as validation set\n",
    "valid_size = 0.2\n",
    "\n",
    "num_train = len(train_data)\n",
    "indices = list(range(num_train))\n",
    "np.random.shuffle(indices)\n",
    "\n",
    "split = int(np.floor(valid_size*num_train))\n",
    "\n",
    "train_idx, valid_idx = indices[split:], indices[:split]\n",
    "\n",
    "# sampler for training and validation\n",
    "train_sampler = SubsetRandomSampler(train_idx)\n",
    "valid_sampler = SubsetRandomSampler(valid_idx)\n",
    "\n",
    "\n",
    "# dataloaders \n",
    "train_loader = torch.utils.data.DataLoader(train_data, batch_size=batch_size, sampler=train_sampler, num_workers=num_workers)\n",
    "valid_loader = torch.utils.data.DataLoader(train_data, batch_size=batch_size, sampler=valid_sampler, num_workers=num_workers)\n",
    "test_loader = torch.utils.data.DataLoader(test_data, batch_size=batch_size, \n",
    "    num_workers=num_workers)"
   ]
  },
  {
   "cell_type": "code",
   "execution_count": 7,
   "metadata": {},
   "outputs": [
    {
     "data": {
      "image/png": "[encoded data removed]",
      "text/plain": [
       "<Figure size 2500x400 with 20 Axes>"
      ]
     },
     "metadata": {},
     "output_type": "display_data"
    }
   ],
   "source": [
    "# Visualize the train data\n",
    "%matplotlib inline\n",
    "\n",
    "# obtain one batch of training images\n",
    "dataiter = iter(train_loader)\n",
    "\n",
    "images, labels = next(dataiter)\n",
    "images = images.numpy()\n",
    "\n",
    "# plot with the correspondign labels\n",
    "\n",
    "fig = plt.figure(figsize=(25, 4))\n",
    "for idx in np.arange(20):\n",
    "    ax = fig.add_subplot(2, 20//2, idx+1, xticks=[], yticks=[])\n",
    "    ax.imshow(np.squeeze(images[idx]), cmap='gray')\n",
    "    # print out the correct label for each image\n",
    "    # .item() gets the value contained in a Tensor\n",
    "    ax.set_title(str(labels[idx].item()))\n",
    "\n"
   ]
  },
  {
   "cell_type": "code",
   "execution_count": 8,
   "metadata": {},
   "outputs": [
    {
     "name": "stdout",
     "output_type": "stream",
     "text": [
      "Net(\n",
      "  (fc1): Linear(in_features=784, out_features=512, bias=True)\n",
      "  (fc2): Linear(in_features=512, out_features=256, bias=True)\n",
      "  (fc3): Linear(in_features=256, out_features=64, bias=True)\n",
      "  (fc4): Linear(in_features=64, out_features=10, bias=True)\n",
      "  (dropout): Dropout(p=0.2, inplace=False)\n",
      ")\n"
     ]
    }
   ],
   "source": [
    "# Network architecture\n",
    "\n",
    "import torch.nn as nn \n",
    "import torch.nn.functional as F \n",
    "\n",
    "class Net(nn.Module):\n",
    "    \n",
    "    def __init__(self):\n",
    "        super(Net, self).__init__()\n",
    "\n",
    "        self.fc1 = nn.Linear(784, 512)\n",
    "        self.fc2 = nn.Linear(512, 256)\n",
    "        self.fc3 = nn.Linear(256, 64)\n",
    "        self.fc4 = nn.Linear(64, 10)\n",
    "\n",
    "        self.dropout = nn.Dropout(0.2)\n",
    "\n",
    "    def forward(self, x):\n",
    "\n",
    "        # flatten the image\n",
    "        x = x.view(-1, 28*28)\n",
    "\n",
    "        # hidden layers with relu activation\n",
    "        x = F.relu(self.fc1(x))\n",
    "        x = self.dropout(x)\n",
    "\n",
    "        x = F.relu(self.fc2(x))\n",
    "        x = self.dropout(x)\n",
    "\n",
    "        x = F.relu(self.fc3(x))\n",
    "        x = self.dropout(x)\n",
    "\n",
    "        x = self.fc4(x)\n",
    "\n",
    "\n",
    "        return x\n",
    "    \n",
    "\n",
    "model = Net()\n",
    "\n",
    "print(model)\n",
    "\n",
    "\n"
   ]
  },
  {
   "cell_type": "code",
   "execution_count": 9,
   "metadata": {},
   "outputs": [],
   "source": [
    "# loss and optimizer\n",
    "criterion = nn.CrossEntropyLoss()\n",
    "\n",
    "# optimizer\n",
    "optimizer = torch.optim.SGD(model.parameters(), lr = 0.01)"
   ]
  },
  {
   "cell_type": "code",
   "execution_count": 10,
   "metadata": {},
   "outputs": [
    {
     "name": "stdout",
     "output_type": "stream",
     "text": [
      "Using device: cuda\n"
     ]
    }
   ],
   "source": [
    "device = torch.device(\"cuda\" if torch.cuda.is_available() else \"cpu\")\n",
    "print(f\"Using device: {device}\")\n",
    "\n",
    "model = model.to(device)"
   ]
  },
  {
   "cell_type": "code",
   "execution_count": 11,
   "metadata": {},
   "outputs": [
    {
     "name": "stdout",
     "output_type": "stream",
     "text": [
      "Epoch: 1 \tTraining Loss: 1.737589 \tValidation Loss: 0.788896\n",
      "Validation loss decreased (inf --> 0.788896).  Saving model ...\n",
      "Epoch: 2 \tTraining Loss: 0.664303 \tValidation Loss: 0.428368\n",
      "Validation loss decreased (0.788896 --> 0.428368).  Saving model ...\n",
      "Epoch: 3 \tTraining Loss: 0.464742 \tValidation Loss: 0.350544\n",
      "Validation loss decreased (0.428368 --> 0.350544).  Saving model ...\n",
      "Epoch: 4 \tTraining Loss: 0.393534 \tValidation Loss: 0.304918\n",
      "Validation loss decreased (0.350544 --> 0.304918).  Saving model ...\n",
      "Epoch: 5 \tTraining Loss: 0.342336 \tValidation Loss: 0.267894\n",
      "Validation loss decreased (0.304918 --> 0.267894).  Saving model ...\n",
      "Epoch: 6 \tTraining Loss: 0.301177 \tValidation Loss: 0.239472\n",
      "Validation loss decreased (0.267894 --> 0.239472).  Saving model ...\n",
      "Epoch: 7 \tTraining Loss: 0.268815 \tValidation Loss: 0.219771\n",
      "Validation loss decreased (0.239472 --> 0.219771).  Saving model ...\n",
      "Epoch: 8 \tTraining Loss: 0.246858 \tValidation Loss: 0.202765\n",
      "Validation loss decreased (0.219771 --> 0.202765).  Saving model ...\n",
      "Epoch: 9 \tTraining Loss: 0.224620 \tValidation Loss: 0.190522\n",
      "Validation loss decreased (0.202765 --> 0.190522).  Saving model ...\n",
      "Epoch: 10 \tTraining Loss: 0.207892 \tValidation Loss: 0.175465\n",
      "Validation loss decreased (0.190522 --> 0.175465).  Saving model ...\n",
      "Epoch: 11 \tTraining Loss: 0.190512 \tValidation Loss: 0.163637\n",
      "Validation loss decreased (0.175465 --> 0.163637).  Saving model ...\n",
      "Epoch: 12 \tTraining Loss: 0.178755 \tValidation Loss: 0.154809\n",
      "Validation loss decreased (0.163637 --> 0.154809).  Saving model ...\n",
      "Epoch: 13 \tTraining Loss: 0.167219 \tValidation Loss: 0.144392\n",
      "Validation loss decreased (0.154809 --> 0.144392).  Saving model ...\n",
      "Epoch: 14 \tTraining Loss: 0.156742 \tValidation Loss: 0.141245\n",
      "Validation loss decreased (0.144392 --> 0.141245).  Saving model ...\n",
      "Epoch: 15 \tTraining Loss: 0.148346 \tValidation Loss: 0.130579\n",
      "Validation loss decreased (0.141245 --> 0.130579).  Saving model ...\n",
      "Epoch: 16 \tTraining Loss: 0.140683 \tValidation Loss: 0.128386\n",
      "Validation loss decreased (0.130579 --> 0.128386).  Saving model ...\n",
      "Epoch: 17 \tTraining Loss: 0.134094 \tValidation Loss: 0.120653\n",
      "Validation loss decreased (0.128386 --> 0.120653).  Saving model ...\n",
      "Epoch: 18 \tTraining Loss: 0.124365 \tValidation Loss: 0.117688\n",
      "Validation loss decreased (0.120653 --> 0.117688).  Saving model ...\n",
      "Epoch: 19 \tTraining Loss: 0.121897 \tValidation Loss: 0.115510\n",
      "Validation loss decreased (0.117688 --> 0.115510).  Saving model ...\n",
      "Epoch: 20 \tTraining Loss: 0.118496 \tValidation Loss: 0.110453\n",
      "Validation loss decreased (0.115510 --> 0.110453).  Saving model ...\n",
      "Epoch: 21 \tTraining Loss: 0.111230 \tValidation Loss: 0.108019\n",
      "Validation loss decreased (0.110453 --> 0.108019).  Saving model ...\n",
      "Epoch: 22 \tTraining Loss: 0.107367 \tValidation Loss: 0.104887\n",
      "Validation loss decreased (0.108019 --> 0.104887).  Saving model ...\n",
      "Epoch: 23 \tTraining Loss: 0.101319 \tValidation Loss: 0.103260\n",
      "Validation loss decreased (0.104887 --> 0.103260).  Saving model ...\n",
      "Epoch: 24 \tTraining Loss: 0.097707 \tValidation Loss: 0.102343\n",
      "Validation loss decreased (0.103260 --> 0.102343).  Saving model ...\n",
      "Epoch: 25 \tTraining Loss: 0.093428 \tValidation Loss: 0.097395\n",
      "Validation loss decreased (0.102343 --> 0.097395).  Saving model ...\n",
      "Epoch: 26 \tTraining Loss: 0.092689 \tValidation Loss: 0.095264\n",
      "Validation loss decreased (0.097395 --> 0.095264).  Saving model ...\n",
      "Epoch: 27 \tTraining Loss: 0.088173 \tValidation Loss: 0.093727\n",
      "Validation loss decreased (0.095264 --> 0.093727).  Saving model ...\n",
      "Epoch: 28 \tTraining Loss: 0.082970 \tValidation Loss: 0.092355\n",
      "Validation loss decreased (0.093727 --> 0.092355).  Saving model ...\n",
      "Epoch: 29 \tTraining Loss: 0.079547 \tValidation Loss: 0.096506\n",
      "Epoch: 30 \tTraining Loss: 0.077767 \tValidation Loss: 0.089086\n",
      "Validation loss decreased (0.092355 --> 0.089086).  Saving model ...\n",
      "Epoch: 31 \tTraining Loss: 0.076958 \tValidation Loss: 0.088081\n",
      "Validation loss decreased (0.089086 --> 0.088081).  Saving model ...\n",
      "Epoch: 32 \tTraining Loss: 0.072070 \tValidation Loss: 0.087328\n",
      "Validation loss decreased (0.088081 --> 0.087328).  Saving model ...\n",
      "Epoch: 33 \tTraining Loss: 0.071904 \tValidation Loss: 0.089560\n",
      "Epoch: 34 \tTraining Loss: 0.069720 \tValidation Loss: 0.086691\n",
      "Validation loss decreased (0.087328 --> 0.086691).  Saving model ...\n",
      "Epoch: 35 \tTraining Loss: 0.066449 \tValidation Loss: 0.089670\n",
      "Epoch: 36 \tTraining Loss: 0.065547 \tValidation Loss: 0.087453\n",
      "Epoch: 37 \tTraining Loss: 0.063972 \tValidation Loss: 0.085801\n",
      "Validation loss decreased (0.086691 --> 0.085801).  Saving model ...\n",
      "Epoch: 38 \tTraining Loss: 0.060033 \tValidation Loss: 0.083029\n",
      "Validation loss decreased (0.085801 --> 0.083029).  Saving model ...\n",
      "Epoch: 39 \tTraining Loss: 0.059763 \tValidation Loss: 0.083945\n",
      "Epoch: 40 \tTraining Loss: 0.057899 \tValidation Loss: 0.082379\n",
      "Validation loss decreased (0.083029 --> 0.082379).  Saving model ...\n",
      "Epoch: 41 \tTraining Loss: 0.053437 \tValidation Loss: 0.078295\n",
      "Validation loss decreased (0.082379 --> 0.078295).  Saving model ...\n",
      "Epoch: 42 \tTraining Loss: 0.052707 \tValidation Loss: 0.082566\n",
      "Epoch: 43 \tTraining Loss: 0.052607 \tValidation Loss: 0.080831\n",
      "Epoch: 44 \tTraining Loss: 0.051582 \tValidation Loss: 0.080284\n",
      "Epoch: 45 \tTraining Loss: 0.049029 \tValidation Loss: 0.080850\n",
      "Epoch: 46 \tTraining Loss: 0.045883 \tValidation Loss: 0.077662\n",
      "Validation loss decreased (0.078295 --> 0.077662).  Saving model ...\n",
      "Epoch: 47 \tTraining Loss: 0.046730 \tValidation Loss: 0.082105\n",
      "Epoch: 48 \tTraining Loss: 0.047010 \tValidation Loss: 0.077474\n",
      "Validation loss decreased (0.077662 --> 0.077474).  Saving model ...\n",
      "Epoch: 49 \tTraining Loss: 0.044072 \tValidation Loss: 0.081437\n",
      "Epoch: 50 \tTraining Loss: 0.042906 \tValidation Loss: 0.082415\n"
     ]
    }
   ],
   "source": [
    "# training\n",
    "\n",
    "\n",
    "n_epochs = 50\n",
    "\n",
    "# min valid loss\n",
    "valid_loss_min = np.Inf\n",
    "\n",
    "train_losses = []\n",
    "valid_losses = []\n",
    "\n",
    "for epoch in range(n_epochs):\n",
    "\n",
    "    train_loss = 0.0\n",
    "    valid_loss = 0.0\n",
    "\n",
    "    # train\n",
    "    model.train()\n",
    "\n",
    "\n",
    "    for data, target in train_loader:\n",
    "\n",
    "        data, target = data.to(device), target.to(device)\n",
    "\n",
    "        # clear gradient\n",
    "        optimizer.zero_grad()\n",
    "\n",
    "        # forward pass\n",
    "        output = model(data)\n",
    "\n",
    "        # loss\n",
    "        loss = criterion(output, target)\n",
    "\n",
    "        # backward pass\n",
    "        loss.backward()\n",
    "\n",
    "        # single optimization step\n",
    "        optimizer.step()\n",
    "\n",
    "        # update running loss\n",
    "        train_loss += loss.item()\n",
    "\n",
    "    \n",
    "    # validation\n",
    "\n",
    "    model.eval()\n",
    "\n",
    "    for data, target in valid_loader:\n",
    "\n",
    "        data, target = data.to(device), target.to(device)\n",
    "\n",
    "        output = model(data)\n",
    "\n",
    "        # loss\n",
    "        loss = criterion(output, target)\n",
    "\n",
    "        valid_loss += loss.item()\n",
    "\n",
    "    \n",
    "    # training and validation statistics\n",
    "\n",
    "    train_loss = train_loss/len(train_loader)\n",
    "    valid_loss = valid_loss/len(valid_loader)\n",
    "\n",
    "    train_losses.append(train_loss)\n",
    "    valid_losses.append(valid_loss)\n",
    "\n",
    "    print('Epoch: {} \\tTraining Loss: {:.6f} \\tValidation Loss: {:.6f}'.format(\n",
    "        epoch+1, \n",
    "        train_loss,\n",
    "        valid_loss\n",
    "        ))\n",
    "    \n",
    "\n",
    "    # save model if validation loss has decreased\n",
    "    if valid_loss <= valid_loss_min:\n",
    "        print('Validation loss decreased ({:.6f} --> {:.6f}).  Saving model ...'.format(\n",
    "        valid_loss_min,\n",
    "        valid_loss))\n",
    "        torch.save(model.state_dict(), './model.pt')\n",
    "        valid_loss_min = valid_loss\n",
    "\n",
    "\n"
   ]
  },
  {
   "cell_type": "code",
   "execution_count": 12,
   "metadata": {},
   "outputs": [
    {
     "data": {
      "text/plain": [
       "<matplotlib.legend.Legend at 0x7f2180107a60>"
      ]
     },
     "execution_count": 12,
     "metadata": {},
     "output_type": "execute_result"
    },
    {
     "data": {
      "image/png": "[encoded data removed]",
      "text/plain": [
       "<Figure size 640x480 with 1 Axes>"
      ]
     },
     "metadata": {},
     "output_type": "display_data"
    }
   ],
   "source": [
    "# plot the train and validation loss\n",
    "plt.plot(train_losses, label='Training loss')\n",
    "plt.plot(valid_losses, label='Validation loss')\n",
    "plt.legend(frameon=False)"
   ]
  },
  {
   "cell_type": "code",
   "execution_count": 13,
   "metadata": {},
   "outputs": [
    {
     "data": {
      "text/plain": [
       "<All keys matched successfully>"
      ]
     },
     "execution_count": 13,
     "metadata": {},
     "output_type": "execute_result"
    }
   ],
   "source": [
    "# Load the model with the lowest validation loss\n",
    "\n",
    "model.load_state_dict(torch.load('./model.pt'))"
   ]
  },
  {
   "cell_type": "code",
   "execution_count": 17,
   "metadata": {},
   "outputs": [
    {
     "name": "stdout",
     "output_type": "stream",
     "text": [
      "Test Loss: 0.066726\n",
      "\n",
      "Test Accuracy of     0: 98% (968/980)\n",
      "Test Accuracy of     1: 99% (1127/1135)\n",
      "Test Accuracy of     2: 98% (1014/1032)\n",
      "Test Accuracy of     3: 97% (987/1010)\n",
      "Test Accuracy of     4: 98% (963/982)\n",
      "Test Accuracy of     5: 98% (877/892)\n",
      "Test Accuracy of     6: 97% (938/958)\n",
      "Test Accuracy of     7: 97% (999/1028)\n",
      "Test Accuracy of     8: 97% (948/974)\n",
      "Test Accuracy of     9: 97% (984/1009)\n",
      "\n",
      "Test Accuracy (Overall): 98% (9805/10000)\n"
     ]
    }
   ],
   "source": [
    "# Test the trained network\n",
    "\n",
    "test_loss = 0.0\n",
    "\n",
    "class_correct = list(0. for i in range(10))\n",
    "class_total = list(0. for i in range(10))\n",
    "\n",
    "\n",
    "model.eval()\n",
    "\n",
    "for data, target in test_loader:\n",
    "\n",
    "    data, target = data.to(device), target.to(device)\n",
    "\n",
    "    # forward pass\n",
    "    output = model(data)\n",
    "\n",
    "    # calucalyte the loss\n",
    "    loss = criterion(output, target)\n",
    "\n",
    "    # update test loss\n",
    "    test_loss += loss.item() * data.size(0)\n",
    "\n",
    "    # convert output probabilities to predicted class\n",
    "    _, pred = torch.max(output, 1)\n",
    "\n",
    "    # compare predictions to true label\n",
    "    correct = np.squeeze(pred.eq(target.data.view_as(pred)))\n",
    "\n",
    "    # calculate test accuracy for each object class\n",
    "    for i in range(len(target)):\n",
    "        label = target.data[i]\n",
    "        class_correct[label] += correct[i].item()\n",
    "        class_total[label] += 1\n",
    "\n",
    "    \n",
    "# calculate and print avg test loss\n",
    "test_loss = test_loss/len(test_loader.dataset)\n",
    "print('Test Loss: {:.6f}\\n'.format(test_loss))\n",
    "\n",
    "for i in range(10):\n",
    "    if class_total[i] > 0:\n",
    "        print('Test Accuracy of %5s: %2d%% (%2d/%2d)' % (\n",
    "            str(i), 100 * class_correct[i] / class_total[i],\n",
    "            np.sum(class_correct[i]), np.sum(class_total[i])))\n",
    "    else:\n",
    "        print('Test Accuracy of %5s: N/A (no training examples)' % (classes[i]))\n",
    "\n",
    "print('\\nTest Accuracy (Overall): %2d%% (%2d/%2d)' % (\n",
    "    100. * np.sum(class_correct) / np.sum(class_total),\n",
    "    np.sum(class_correct), np.sum(class_total)))\n",
    "\n",
    "    "
   ]
  },
  {
   "cell_type": "code",
   "execution_count": 24,
   "metadata": {},
   "outputs": [
    {
     "data": {
      "image/png": "[encoded data removed]",
      "text/plain": [
       "<Figure size 2500x400 with 20 Axes>"
      ]
     },
     "metadata": {},
     "output_type": "display_data"
    }
   ],
   "source": [
    "# obtain one batch of test images\n",
    "dataiter = iter(test_loader)\n",
    "images, labels = next(dataiter)\n",
    "\n",
    "model = model.to('cpu')\n",
    "\n",
    "# forward pass\n",
    "output = model(images)\n",
    "# convert output probabilities to predicted class\n",
    "_, preds = torch.max(output, 1)\n",
    "# prep images for display\n",
    "images = images.numpy()\n",
    "\n",
    "# plot the images in the batch, along with predicted and true labels\n",
    "fig = plt.figure(figsize=(25, 4))\n",
    "for idx in np.arange(20):\n",
    "    ax = fig.add_subplot(2, 20//2, idx+1, xticks=[], yticks=[])\n",
    "    ax.imshow(np.squeeze(images[idx]), cmap='gray')\n",
    "    ax.set_title(\"{} ({})\".format(str(preds[idx].item()), str(labels[idx].item())),\n",
    "                 color=(\"green\" if preds[idx]==labels[idx] else \"red\"))"
   ]
  }
 ],
 "metadata": {
  "kernelspec": {
   "display_name": "deep-learning",
   "language": "python",
   "name": "python3"
  },
  "language_info": {
   "codemirror_mode": {
    "name": "ipython",
    "version": 3
   },
   "file_extension": ".py",
   "mimetype": "text/x-python",
   "name": "python",
   "nbconvert_exporter": "python",
   "pygments_lexer": "ipython3",
   "version": "3.9.19"
  }
 },
 "nbformat": 4,
 "nbformat_minor": 2
}
