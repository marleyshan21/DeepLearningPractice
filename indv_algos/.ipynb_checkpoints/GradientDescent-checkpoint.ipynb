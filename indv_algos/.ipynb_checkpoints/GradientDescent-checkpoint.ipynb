{
 "cells": [
  {
   "cell_type": "markdown",
   "id": "227b0e59",
   "metadata": {},
   "source": [
    "Implement Gradient Descent Algorithm  to find the boundary of a small dataset"
   ]
  },
  {
   "cell_type": "code",
   "execution_count": null,
   "id": "f610cfe5",
   "metadata": {},
   "outputs": [],
   "source": [
    "import matplot"
   ]
  }
 ],
 "metadata": {
  "kernelspec": {
   "display_name": "Python 3",
   "language": "python",
   "name": "python3"
  },
  "language_info": {
   "codemirror_mode": {
    "name": "ipython",
    "version": 3
   },
   "file_extension": ".py",
   "mimetype": "text/x-python",
   "name": "python",
   "nbconvert_exporter": "python",
   "pygments_lexer": "ipython3",
   "version": "3.6.13"
  }
 },
 "nbformat": 4,
 "nbformat_minor": 5
}
